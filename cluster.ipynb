{
 "cells": [
  {
   "cell_type": "markdown",
   "metadata": {
    "slideshow": {
     "slide_type": "slide"
    }
   },
   "source": [
    "# Friezes\n",
    "\n",
    "A *frieze* is an image that repeats itself along one direction. The name comes from architecture, where a frieze is a decoration running horizontally below a ceiling or roof. From M. Ascher, Ethnomathematics, p. 162.\n",
    "\n",
    "<img src=\"attachment/Inca3.png\" alt=\"Drawing\" style=\"width: 270px;\"/>\n",
    "<img src=\"attachment/Inca4.png\" alt=\"Drawing\" style=\"width: 270px;\"/>\n",
    "<img src=\"attachment/Inca5.png\" alt=\"Drawing\" style=\"width: 270px;\"/>\n",
    "\n",
    "\n",
    "### Conway - Coxeter frieze (1970s)\n",
    "A (type $A$) **frieze** is an array such that\n",
    "* it is bounded above and below by a row of $1$s\n",
    "* every diamond\n",
    "$$\n",
    " \\begin{array}{ccccccc}\n",
    " &b&\\\\[-1pt]\n",
    " a&&d\\\\[-1pt]\n",
    " &c&\n",
    "\\end{array}$$ satisfies the diamond rule $ad-bc=1$.\n",
    "\n",
    "A **Conway - Coxeter frieze** consists of only *positive integers*\n",
    "\n",
    "### Example (a Conway - Coxeter frieze)\n",
    "\n",
    "\\begin{equation*}\n",
    " \\begin{array}{lcccccccccccccccccccccccc}\n",
    "&&&1&&1&& 1&&1&&1&&1&&1&& \\cdots\\\\[4pt]\n",
    "\\text{Row $2$}\n",
    "&&\\cdots&&\\mathbf{{3}}&&\\mathbf{1}&&\\mathbf{2}&&\\mathbf{2}&&\\mathbf{1}&&3&&1&&\n",
    " \\\\[4pt]\n",
    "&&&2&&2&&1&&3&&1&&2&&2&&\\cdots&\\\n",
    " \\\\[4pt]\n",
    "&&\\cdots&&1&&1&&1&&1&&1&&1&&1&&\n",
    "\\end{array}\n",
    "\\end{equation*}\n",
    "Note: every frieze pattern is completely determined by the 2nd row.\n",
    "\n",
    "\n"
   ]
  },
  {
   "cell_type": "code",
   "execution_count": 1,
   "metadata": {
    "scrolled": true
   },
   "outputs": [],
   "source": [
    "% run attachment/friezedemo.py\n",
    "friezepic = print_frieze(input_row=(1,2,2,3,1,2,4),width = 14, friezerow = 8)\n",
    "view(friezepic)"
   ]
  },
  {
   "cell_type": "markdown",
   "metadata": {},
   "source": [
    "The code produces a LaTeX source code which would produce the following picture\n",
    "<img src=\"attachment/friezedemo.pdf\" alt=\"Drawing\" style=\"width: 450px;\"/>\n",
    "\n",
    "\n",
    "### Children practicing arithmetic\n",
    "\n",
    "<img src=\"attachment/practice_frieze.pdf\" alt=\"Drawing\" style=\"width: 450px;\"/>\n",
    "\n",
    "### Children practicing arithmetic: Answer Key\n",
    "\n",
    "<img src=\"attachment/practice_frieze_answerkey_table1.pdf\" alt=\"Drawing\" style=\"width: 270px;\"/>\n",
    "<img src=\"attachment/practice_frieze_answerkey_table2.pdf\" alt=\"Drawing\" style=\"width: 270px;\"/>\n",
    "\n",
    "\n",
    "### What do the numbers around the integers count?\n",
    "<img src=\"attachment/figure3.pdf\" alt=\"Drawing\" style=\"width: 240px;\"/>\n",
    "\n",
    "The corresponding frieze is below.\n",
    "\n",
    "<img src=\"attachment/friezedemo.pdf\" alt=\"Drawing\" style=\"width: 450px;\"/>\n",
    "\n",
    "Answer: the number of triangles adjacent to each vertex.\n",
    "\n",
    "### Theorem (Conway and Coxeter, 1970s)\n",
    "A Conway - Coxeter frieze with $n$ nontrivial rows $\\large\\longleftrightarrow$ a triangulation of an $(n+3)$-gon\n",
    "\n",
    "\n",
    "Note: Hence Conway - Coxeter friezes are Catalan objects.\n",
    "\n",
    "### Primary school algorithm (fun)\n",
    "\n",
    "<br>"
   ]
  },
  {
   "cell_type": "markdown",
   "metadata": {
    "slideshow": {
     "slide_type": "subslide"
    }
   },
   "source": [
    "# Fomin - Zelevinsky Cluster Algebra (2001)\n",
    "\n",
    "Let $Q$ be a **quiver** (a directed graph) on $n$ vertices with no loop and no 2-cycle.\n",
    "E.g. Below is a quiver of affine Dynkin type $\\widetilde{\\mathbb{A}}_{1,2}$, which has 1 arrow pointing counterclockwise and  2 arrows pointing clockwise."
   ]
  },
  {
   "cell_type": "code",
   "execution_count": 2,
   "metadata": {
    "scrolled": true,
    "slideshow": {
     "slide_type": "subslide"
    }
   },
   "outputs": [
    {
     "data": {
      "image/png": "[encoded data removed]",
      "text/plain": [
       "Graphics object consisting of 11 graphics primitives"
      ]
     },
     "metadata": {},
     "output_type": "display_data"
    }
   ],
   "source": [
    "Q=ClusterQuiver([[1,0],[2,1],[2,0]])\n",
    "Q.show(fig_size=0.2, circular=True)"
   ]
  },
  {
   "cell_type": "markdown",
   "metadata": {
    "slideshow": {
     "slide_type": "slide"
    }
   },
   "source": [
    "* A **cluster algebra from $Q$** is a subalgebra $\\mathcal{A}$ of the field of rational functions in $n$ variables. \n",
    "* The generators of $\\mathcal{A}$ are called **cluster variables**, which are computed from $Q$ as we explain below.\n",
    "\n",
    "**Note:** Python indexing starts at $0$, but our indexing starts at $1$."
   ]
  },
  {
   "cell_type": "code",
   "execution_count": 91,
   "metadata": {
    "slideshow": {
     "slide_type": "subslide"
    }
   },
   "outputs": [
    {
     "data": {
      "text/plain": [
       "A Cluster Algebra with cluster variables x0, x1, x2 and no coefficients over Integer Ring"
      ]
     },
     "execution_count": 91,
     "metadata": {},
     "output_type": "execute_result"
    }
   ],
   "source": [
    "A=ClusterAlgebra(Q)\n",
    "A"
   ]
  },
  {
   "cell_type": "markdown",
   "metadata": {
    "slideshow": {
     "slide_type": "slide"
    }
   },
   "source": [
    "### Initial Seed (cluster + quiver)\n",
    "\n",
    "Start with an initial **cluster** (a set of **cluster variables**) of size n."
   ]
  },
  {
   "cell_type": "code",
   "execution_count": 92,
   "metadata": {
    "slideshow": {
     "slide_type": "subslide"
    }
   },
   "outputs": [
    {
     "data": {
      "text/plain": [
       "[x0, x1, x2]"
      ]
     },
     "execution_count": 92,
     "metadata": {},
     "output_type": "execute_result"
    }
   ],
   "source": [
    "S=A.initial_seed()\n",
    "S.cluster_variables()"
   ]
  },
  {
   "cell_type": "markdown",
   "metadata": {
    "slideshow": {
     "slide_type": "subslide"
    }
   },
   "source": [
    "### Mutation\n",
    "We can **mutate** a cluster at each of the vertices 1, 2, $\\dots$, n."
   ]
  },
  {
   "cell_type": "code",
   "execution_count": 93,
   "metadata": {},
   "outputs": [
    {
     "data": {
      "text/plain": [
       "[(x1*x2 + 1)/x0, x1, x2]"
      ]
     },
     "execution_count": 93,
     "metadata": {},
     "output_type": "execute_result"
    }
   ],
   "source": [
    "S=A.initial_seed()\n",
    "S.mutate(0)\n",
    "S.cluster_variables()"
   ]
  },
  {
   "cell_type": "markdown",
   "metadata": {
    "slideshow": {
     "slide_type": "subslide"
    }
   },
   "source": [
    "We get a new quiver by reversing all arrows adjacent to vertex $0$."
   ]
  },
  {
   "cell_type": "code",
   "execution_count": 94,
   "metadata": {
    "slideshow": {
     "slide_type": "fragment"
    }
   },
   "outputs": [
    {
     "data": {
      "image/png": "[encoded data removed]",
      "text/plain": [
       "Graphics object consisting of 11 graphics primitives"
      ]
     },
     "metadata": {},
     "output_type": "display_data"
    }
   ],
   "source": [
    "ClusterQuiver(S.b_matrix()).show()"
   ]
  },
  {
   "cell_type": "markdown",
   "metadata": {
    "slideshow": {
     "slide_type": "fragment"
    }
   },
   "source": [
    "### Mutating all clusters\n",
    "\n",
    "Continue mutating all clusters at all vertices."
   ]
  },
  {
   "cell_type": "code",
   "execution_count": 95,
   "metadata": {
    "slideshow": {
     "slide_type": "fragment"
    }
   },
   "outputs": [
    {
     "data": {
      "text/plain": [
       "[(x1*x2 + 1)/x0, (x1*x2^2 + x0 + x2)/(x0*x1), x2]"
      ]
     },
     "execution_count": 95,
     "metadata": {},
     "output_type": "execute_result"
    }
   ],
   "source": [
    "S=A.initial_seed()\n",
    "S.mutate([0,1])\n",
    "S.cluster_variables()"
   ]
  },
  {
   "cell_type": "markdown",
   "metadata": {},
   "source": [
    "### Theorem (Laurent Phenomenon and Positivity): \n",
    "Every cluster variable is a Laurent polynomial with positive coefficients in the initial cluster variables, that is, every cluster variable $x$ is\n",
    "$$x=\\frac{g(x_1,\\dots,x_n)}{x_1^{d_1} \\dots x_n^{d_n}}$$ where $g(x_1,\\dots,x_n)\\in \\mathbb{Z}_{>0}[x_1,\\dots,x_n]$, that is, a polynomial with positive coefficients. "
   ]
  },
  {
   "cell_type": "code",
   "execution_count": 96,
   "metadata": {
    "scrolled": true
   },
   "outputs": [
    {
     "name": "stdout",
     "output_type": "stream",
     "text": [
      "(x1^2*x2^4 + x0^3*x1 + x0^2*x1*x2 + 2*x0*x1*x2^2 + 2*x1*x2^3 + x0^2 + 2*x0*x2 + x2^2)/(x0^2*x1^2*x2)\n",
      "\n",
      "(x0 + x2)/x1\n",
      "\n",
      "(x1^3*x2^6 + x0^5*x1^2 + x0^4*x1^2*x2 + 2*x0^3*x1^2*x2^2 + 2*x0^2*x1^2*x2^3 + 3*x0*x1^2*x2^4 + 3*x1^2*x2^5 + 2*x0^4*x1 + 4*x0^3*x1*x2 + 5*x0^2*x1*x2^2 + 6*x0*x1*x2^3 + 3*x1*x2^4 + x0^3 + 3*x0^2*x2 + 3*x0*x2^2 + x2^3)/(x0^3*x1^3*x2^2)\n",
      "\n"
     ]
    }
   ],
   "source": [
    "S=A.initial_seed()\n",
    "S.mutate([0,1,2,0,1,2,1])\n",
    "for x in S.cluster_variables():\n",
    "    print(x)\n",
    "    print('')"
   ]
  },
  {
   "cell_type": "markdown",
   "metadata": {},
   "source": [
    "# Frieze (over an integral domain)\n",
    "In general, a **frieze** (of type $A$) is an array of elements of an *integral domain* $R$ such that\n",
    "* it is bounded above and below by a row of $1$s\n",
    "* every diamond\n",
    "\n",
    "$$\n",
    " \\begin{array}{ccccccc}\n",
    " &b&\\\\[-1pt]\n",
    " a&&d\\\\[-1pt]\n",
    " &c&\n",
    "\\end{array}\n",
    "$$ \n",
    "satisfies the \n",
    "rule\n",
    "$ad-bc=1$. \n",
    "\n",
    "\n",
    "### Example: a frieze over the cluster algebra\n",
    "Note: I omit the rows of $1$s.\n",
    "\n",
    "\\begin{align*} \n",
    "&\\hspace{10pt} x_3\\hspace{10pt}  &&\n",
    " \\frac{x_1x_3+1+x_2}{x_2x_3}  &&\n",
    " \\frac{x_2+1}{x_1} &&\n",
    " \\hspace{10pt} x_1\n",
    " \\hspace{10pt} \\\\\n",
    "\\hspace{5pt} x_2\\hspace{5pt}  &&\n",
    " \\frac{x_1x_3+1}{x_2}  &&\n",
    "\\hspace{-5pt} \\hspace{-5pt} \\frac{x_2^2+2x_2+1+x_1x_3}{x_1x_2x_3}\\hspace{-5pt}\\hspace{-5pt}  &&\n",
    " \\hspace{5pt} x_2\\hspace{5pt}   &&\n",
    "\\\\\n",
    "& \\hspace{10pt} x_1  &&\n",
    "  \\frac{x_1x_3+1+x_2}{x_1x_2}  &&\n",
    "  \\frac{x_2+1}{x_3}  &&\n",
    " \\hspace{10pt}  x_3\n",
    "\\end{align*}\n",
    "\n",
    "\n",
    "\n",
    "#### Friezes over the integers \n",
    "Specializing $x_1=x_2=x_3=1$ gives a Conway - Coxeter (positive integer) frieze \n",
    "\n",
    "\\begin{equation*}\n",
    " \\begin{array}{lcccccccccccccccccccccccc}\n",
    "& 1  &&\n",
    "3  &&\n",
    "2  &&\n",
    "1  &&\n",
    "\\\\\n",
    "1  &&\n",
    "2  &&\n",
    "5  &&\n",
    "1  &&\n",
    " \\\\\n",
    "& 1 &&\n",
    "3 &&\n",
    "2 &&\n",
    "1 &&\n",
    "\\end{array}\n",
    "\\end{equation*}\n",
    "\n",
    "\n",
    "Specializing $x_1=x_2=1$ and $x_3=-1$ gives\n",
    "\n",
    "\\begin{equation*}\n",
    "\\begin{array}{lcccccccccccccccccccccccc}\n",
    "& -1  &&\n",
    "-1 &&\n",
    "2  &&\n",
    "1  &&\n",
    "\\\\\n",
    "1  &&\n",
    "0  &&\n",
    "-3  &&\n",
    "1  &&\n",
    " \\\\\n",
    "&\n",
    "1 &&\n",
    "1 &&\n",
    "-2 &&\n",
    "-1 &&\n",
    "\\end{array}\n",
    "\\end{equation*}\n",
    "\n",
    "\n",
    "\n",
    "#### Frieze over the Gaussian integers $\\mathbb{Z}[i]$\n",
    "\n",
    "Specializing $x_1=1$, $x_2=i$, and $x_3=i$ gives\n",
    "\n",
    "\n",
    "\\begin{equation*}\n",
    "\\begin{array}{lcccccccccccccccccccccccc}\n",
    "& \\hspace{5pt} i \\hspace{5pt}  &&\n",
    " \\hspace{-5pt}-1-2i \\hspace{-5pt}  &&\n",
    "1+i  &&\n",
    " \\hspace{5pt}1  \\hspace{5pt} &&\n",
    "\\\\\n",
    "i  &&\n",
    "1-i  &&\n",
    "-3i  &&\n",
    "i  &&\n",
    " \\\\\n",
    "&\n",
    "1 &&\n",
    "2-i &&\n",
    "1-i &&\n",
    "i &&\n",
    "\\\\\n",
    " 1 &&\n",
    "1 &&\n",
    "1 &&\n",
    "1 &&\n",
    "\\end{array}\n",
    "\\end{equation*}\n",
    "\n",
    "\n",
    "#### Frieze over the quadratic integer ring $\\mathbb{Z}\\left[\\sqrt{-3}\\right]$\n",
    "Specializing $x_1=1$, $x_2=\\frac{1+\\sqrt{-3}}{2}$, $x_3=1$ gives\n",
    "\n",
    "\\begin{equation*}\n",
    "\\begin{array}{lcccccccccccccccccccccccc}\n",
    "& 1  &&\n",
    "\\scriptstyle 2-\\sqrt{-3}  &&\n",
    "\\frac{3+\\sqrt{-3}}{2}  &&\n",
    "1  &&\n",
    "\\\\\n",
    "\\frac{1+\\sqrt{-3}}{2}  &&\n",
    "\\scriptstyle 1-\\sqrt{-3}  &&\n",
    "\\frac{7-\\sqrt{-3}}{2}  &&\n",
    "\\frac{1+\\sqrt{-3}}{2}  &&\n",
    " \\\\ \n",
    "& 1  &&\n",
    "\\scriptstyle 2-\\sqrt{-3}  &&\n",
    "\\frac{3+\\sqrt{-3}}{2}  &&\n",
    "1  &&\n",
    "\\end{array}\n",
    "\\end{equation*}\n"
   ]
  },
  {
   "cell_type": "markdown",
   "metadata": {},
   "source": [
    "# References\n",
    "### Websites:\n",
    "* [Wikipedia entry](https://en.wikipedia.org/wiki/Cluster_algebra)\n",
    "* [Cluster Algebras Portal](http://www.math.lsa.umich.edu/~fomin/cluster.html)\n",
    "\n",
    "### arXiv.org:\n",
    "* [Introductory cluster algebra survey by Lauren Williams titled *Cluster algebras: an introduction*](https://arxiv.org/abs/1212.6263)\n",
    "* [Cluster algebra textbook by Sergey Fomin, Lauren Williams, Andrei Zelevinsky titled *Introduction to cluster algebras*](https://arxiv.org/abs/1608.05735)\n",
    "* [Frieze survey by Sophie Morier-Genoud titled *Coxeter's frieze patterns at the crossroads of algebra, geometry and combinatorics*](https://arxiv.org/abs/1503.05049)\n",
    "* [Frieze paper by Emily Gunawan and Ralf Schiffler titled *Frieze vectors and unitary friezes*](https://arxiv.org/abs/1806.00940)\n"
   ]
  },
  {
   "cell_type": "markdown",
   "metadata": {},
   "source": []
  },
  {
   "cell_type": "code",
   "execution_count": null,
   "metadata": {},
   "outputs": [],
   "source": []
  }
 ],
 "metadata": {
  "kernelspec": {
   "display_name": "SageMath 8.2",
   "language": "",
   "name": "sagemath"
  },
  "language_info": {
   "codemirror_mode": {
    "name": "ipython",
    "version": 2
   },
   "file_extension": ".py",
   "mimetype": "text/x-python",
   "name": "python",
   "nbconvert_exporter": "python",
   "pygments_lexer": "ipython2",
   "version": "2.7.14"
  }
 },
 "nbformat": 4,
 "nbformat_minor": 2
}
